{
  "nbformat": 4,
  "nbformat_minor": 0,
  "metadata": {
    "colab": {
      "name": "Titanic Notebook",
      "provenance": [],
      "mount_file_id": "1QFFlWUdjzMxSAkwOqBGNwgjwMCG9nuuP",
      "authorship_tag": "ABX9TyOwQIIZ332usWpW8EQhuMPa",
      "include_colab_link": true
    },
    "kernelspec": {
      "name": "python3",
      "display_name": "Python 3"
    }
  },
  "cells": [
    {
      "cell_type": "markdown",
      "metadata": {
        "id": "view-in-github",
        "colab_type": "text"
      },
      "source": [
        "<a href=\"https://colab.research.google.com/github/nitishm08/Titanic-Dataset/blob/master/Titanic_Notebook.ipynb\" target=\"_parent\"><img src=\"https://colab.research.google.com/assets/colab-badge.svg\" alt=\"Open In Colab\"/></a>"
      ]
    },
    {
      "cell_type": "code",
      "metadata": {
        "id": "oKZy-wwWr-sX",
        "colab_type": "code",
        "colab": {}
      },
      "source": [
        "import pandas as pd\n",
        "import numpy as np\n",
        "import matplotlib.pyplot as plt\n",
        "import seaborn as sns"
      ],
      "execution_count": 79,
      "outputs": []
    },
    {
      "cell_type": "code",
      "metadata": {
        "id": "QHX0eFGfsMeR",
        "colab_type": "code",
        "colab": {
          "base_uri": "https://localhost:8080/",
          "height": 35
        },
        "outputId": "f9885dc3-2e65-499a-a4ef-a1d6ae348605"
      },
      "source": [
        "%cd /content/drive/My Drive/Python for Data Science/13-Logistic-Regression"
      ],
      "execution_count": 2,
      "outputs": [
        {
          "output_type": "stream",
          "text": [
            "/content/drive/My Drive/Python for Data Science/13-Logistic-Regression\n"
          ],
          "name": "stdout"
        }
      ]
    },
    {
      "cell_type": "code",
      "metadata": {
        "id": "LApmDrt_sT2L",
        "colab_type": "code",
        "colab": {}
      },
      "source": [
        "train_df=pd.read_csv('titanic_train.csv')"
      ],
      "execution_count": 107,
      "outputs": []
    },
    {
      "cell_type": "code",
      "metadata": {
        "id": "G3epDsORsekc",
        "colab_type": "code",
        "colab": {
          "base_uri": "https://localhost:8080/",
          "height": 282
        },
        "outputId": "34536632-c5f4-401b-e8d5-f5848ba3a757"
      },
      "source": [
        "train_df.describe()"
      ],
      "execution_count": 81,
      "outputs": [
        {
          "output_type": "execute_result",
          "data": {
            "text/html": [
              "<div>\n",
              "<style scoped>\n",
              "    .dataframe tbody tr th:only-of-type {\n",
              "        vertical-align: middle;\n",
              "    }\n",
              "\n",
              "    .dataframe tbody tr th {\n",
              "        vertical-align: top;\n",
              "    }\n",
              "\n",
              "    .dataframe thead th {\n",
              "        text-align: right;\n",
              "    }\n",
              "</style>\n",
              "<table border=\"1\" class=\"dataframe\">\n",
              "  <thead>\n",
              "    <tr style=\"text-align: right;\">\n",
              "      <th></th>\n",
              "      <th>PassengerId</th>\n",
              "      <th>Survived</th>\n",
              "      <th>Pclass</th>\n",
              "      <th>Age</th>\n",
              "      <th>SibSp</th>\n",
              "      <th>Parch</th>\n",
              "      <th>Fare</th>\n",
              "    </tr>\n",
              "  </thead>\n",
              "  <tbody>\n",
              "    <tr>\n",
              "      <th>count</th>\n",
              "      <td>891.000000</td>\n",
              "      <td>891.000000</td>\n",
              "      <td>891.000000</td>\n",
              "      <td>714.000000</td>\n",
              "      <td>891.000000</td>\n",
              "      <td>891.000000</td>\n",
              "      <td>891.000000</td>\n",
              "    </tr>\n",
              "    <tr>\n",
              "      <th>mean</th>\n",
              "      <td>446.000000</td>\n",
              "      <td>0.383838</td>\n",
              "      <td>2.308642</td>\n",
              "      <td>29.699118</td>\n",
              "      <td>0.523008</td>\n",
              "      <td>0.381594</td>\n",
              "      <td>32.204208</td>\n",
              "    </tr>\n",
              "    <tr>\n",
              "      <th>std</th>\n",
              "      <td>257.353842</td>\n",
              "      <td>0.486592</td>\n",
              "      <td>0.836071</td>\n",
              "      <td>14.526497</td>\n",
              "      <td>1.102743</td>\n",
              "      <td>0.806057</td>\n",
              "      <td>49.693429</td>\n",
              "    </tr>\n",
              "    <tr>\n",
              "      <th>min</th>\n",
              "      <td>1.000000</td>\n",
              "      <td>0.000000</td>\n",
              "      <td>1.000000</td>\n",
              "      <td>0.420000</td>\n",
              "      <td>0.000000</td>\n",
              "      <td>0.000000</td>\n",
              "      <td>0.000000</td>\n",
              "    </tr>\n",
              "    <tr>\n",
              "      <th>25%</th>\n",
              "      <td>223.500000</td>\n",
              "      <td>0.000000</td>\n",
              "      <td>2.000000</td>\n",
              "      <td>20.125000</td>\n",
              "      <td>0.000000</td>\n",
              "      <td>0.000000</td>\n",
              "      <td>7.910400</td>\n",
              "    </tr>\n",
              "    <tr>\n",
              "      <th>50%</th>\n",
              "      <td>446.000000</td>\n",
              "      <td>0.000000</td>\n",
              "      <td>3.000000</td>\n",
              "      <td>28.000000</td>\n",
              "      <td>0.000000</td>\n",
              "      <td>0.000000</td>\n",
              "      <td>14.454200</td>\n",
              "    </tr>\n",
              "    <tr>\n",
              "      <th>75%</th>\n",
              "      <td>668.500000</td>\n",
              "      <td>1.000000</td>\n",
              "      <td>3.000000</td>\n",
              "      <td>38.000000</td>\n",
              "      <td>1.000000</td>\n",
              "      <td>0.000000</td>\n",
              "      <td>31.000000</td>\n",
              "    </tr>\n",
              "    <tr>\n",
              "      <th>max</th>\n",
              "      <td>891.000000</td>\n",
              "      <td>1.000000</td>\n",
              "      <td>3.000000</td>\n",
              "      <td>80.000000</td>\n",
              "      <td>8.000000</td>\n",
              "      <td>6.000000</td>\n",
              "      <td>512.329200</td>\n",
              "    </tr>\n",
              "  </tbody>\n",
              "</table>\n",
              "</div>"
            ],
            "text/plain": [
              "       PassengerId    Survived      Pclass  ...       SibSp       Parch        Fare\n",
              "count   891.000000  891.000000  891.000000  ...  891.000000  891.000000  891.000000\n",
              "mean    446.000000    0.383838    2.308642  ...    0.523008    0.381594   32.204208\n",
              "std     257.353842    0.486592    0.836071  ...    1.102743    0.806057   49.693429\n",
              "min       1.000000    0.000000    1.000000  ...    0.000000    0.000000    0.000000\n",
              "25%     223.500000    0.000000    2.000000  ...    0.000000    0.000000    7.910400\n",
              "50%     446.000000    0.000000    3.000000  ...    0.000000    0.000000   14.454200\n",
              "75%     668.500000    1.000000    3.000000  ...    1.000000    0.000000   31.000000\n",
              "max     891.000000    1.000000    3.000000  ...    8.000000    6.000000  512.329200\n",
              "\n",
              "[8 rows x 7 columns]"
            ]
          },
          "metadata": {
            "tags": []
          },
          "execution_count": 81
        }
      ]
    },
    {
      "cell_type": "code",
      "metadata": {
        "id": "8zMAn-RGsk45",
        "colab_type": "code",
        "colab": {
          "base_uri": "https://localhost:8080/",
          "height": 355
        },
        "outputId": "d58a773c-0ee1-407a-8560-6ae2cff99db3"
      },
      "source": [
        "train_df.info()"
      ],
      "execution_count": 82,
      "outputs": [
        {
          "output_type": "stream",
          "text": [
            "<class 'pandas.core.frame.DataFrame'>\n",
            "RangeIndex: 891 entries, 0 to 890\n",
            "Data columns (total 12 columns):\n",
            " #   Column       Non-Null Count  Dtype  \n",
            "---  ------       --------------  -----  \n",
            " 0   PassengerId  891 non-null    int64  \n",
            " 1   Survived     891 non-null    int64  \n",
            " 2   Pclass       891 non-null    int64  \n",
            " 3   Name         891 non-null    object \n",
            " 4   Sex          891 non-null    object \n",
            " 5   Age          714 non-null    float64\n",
            " 6   SibSp        891 non-null    int64  \n",
            " 7   Parch        891 non-null    int64  \n",
            " 8   Ticket       891 non-null    object \n",
            " 9   Fare         891 non-null    float64\n",
            " 10  Cabin        204 non-null    object \n",
            " 11  Embarked     889 non-null    object \n",
            "dtypes: float64(2), int64(5), object(5)\n",
            "memory usage: 83.7+ KB\n"
          ],
          "name": "stdout"
        }
      ]
    },
    {
      "cell_type": "code",
      "metadata": {
        "id": "7UD0qBKkvmoB",
        "colab_type": "code",
        "colab": {
          "base_uri": "https://localhost:8080/",
          "height": 230
        },
        "outputId": "33460879-0592-4c1c-90dd-30760eed4695"
      },
      "source": [
        "for column in train_df:\n",
        "  print('Empty Values in {c} are {n}'.format(c=column,n=sum(train_df[column].value_counts())-891))"
      ],
      "execution_count": 83,
      "outputs": [
        {
          "output_type": "stream",
          "text": [
            "Empty Values in PassengerId are 0\n",
            "Empty Values in Survived are 0\n",
            "Empty Values in Pclass are 0\n",
            "Empty Values in Name are 0\n",
            "Empty Values in Sex are 0\n",
            "Empty Values in Age are -177\n",
            "Empty Values in SibSp are 0\n",
            "Empty Values in Parch are 0\n",
            "Empty Values in Ticket are 0\n",
            "Empty Values in Fare are 0\n",
            "Empty Values in Cabin are -687\n",
            "Empty Values in Embarked are -2\n"
          ],
          "name": "stdout"
        }
      ]
    },
    {
      "cell_type": "code",
      "metadata": {
        "id": "J_E0zIMbx2ZU",
        "colab_type": "code",
        "colab": {
          "base_uri": "https://localhost:8080/",
          "height": 252
        },
        "outputId": "6fc59cf8-a187-484a-8d07-c6ea804eb64f"
      },
      "source": [
        "train_df.corr()"
      ],
      "execution_count": 84,
      "outputs": [
        {
          "output_type": "execute_result",
          "data": {
            "text/html": [
              "<div>\n",
              "<style scoped>\n",
              "    .dataframe tbody tr th:only-of-type {\n",
              "        vertical-align: middle;\n",
              "    }\n",
              "\n",
              "    .dataframe tbody tr th {\n",
              "        vertical-align: top;\n",
              "    }\n",
              "\n",
              "    .dataframe thead th {\n",
              "        text-align: right;\n",
              "    }\n",
              "</style>\n",
              "<table border=\"1\" class=\"dataframe\">\n",
              "  <thead>\n",
              "    <tr style=\"text-align: right;\">\n",
              "      <th></th>\n",
              "      <th>PassengerId</th>\n",
              "      <th>Survived</th>\n",
              "      <th>Pclass</th>\n",
              "      <th>Age</th>\n",
              "      <th>SibSp</th>\n",
              "      <th>Parch</th>\n",
              "      <th>Fare</th>\n",
              "    </tr>\n",
              "  </thead>\n",
              "  <tbody>\n",
              "    <tr>\n",
              "      <th>PassengerId</th>\n",
              "      <td>1.000000</td>\n",
              "      <td>-0.005007</td>\n",
              "      <td>-0.035144</td>\n",
              "      <td>0.036847</td>\n",
              "      <td>-0.057527</td>\n",
              "      <td>-0.001652</td>\n",
              "      <td>0.012658</td>\n",
              "    </tr>\n",
              "    <tr>\n",
              "      <th>Survived</th>\n",
              "      <td>-0.005007</td>\n",
              "      <td>1.000000</td>\n",
              "      <td>-0.338481</td>\n",
              "      <td>-0.077221</td>\n",
              "      <td>-0.035322</td>\n",
              "      <td>0.081629</td>\n",
              "      <td>0.257307</td>\n",
              "    </tr>\n",
              "    <tr>\n",
              "      <th>Pclass</th>\n",
              "      <td>-0.035144</td>\n",
              "      <td>-0.338481</td>\n",
              "      <td>1.000000</td>\n",
              "      <td>-0.369226</td>\n",
              "      <td>0.083081</td>\n",
              "      <td>0.018443</td>\n",
              "      <td>-0.549500</td>\n",
              "    </tr>\n",
              "    <tr>\n",
              "      <th>Age</th>\n",
              "      <td>0.036847</td>\n",
              "      <td>-0.077221</td>\n",
              "      <td>-0.369226</td>\n",
              "      <td>1.000000</td>\n",
              "      <td>-0.308247</td>\n",
              "      <td>-0.189119</td>\n",
              "      <td>0.096067</td>\n",
              "    </tr>\n",
              "    <tr>\n",
              "      <th>SibSp</th>\n",
              "      <td>-0.057527</td>\n",
              "      <td>-0.035322</td>\n",
              "      <td>0.083081</td>\n",
              "      <td>-0.308247</td>\n",
              "      <td>1.000000</td>\n",
              "      <td>0.414838</td>\n",
              "      <td>0.159651</td>\n",
              "    </tr>\n",
              "    <tr>\n",
              "      <th>Parch</th>\n",
              "      <td>-0.001652</td>\n",
              "      <td>0.081629</td>\n",
              "      <td>0.018443</td>\n",
              "      <td>-0.189119</td>\n",
              "      <td>0.414838</td>\n",
              "      <td>1.000000</td>\n",
              "      <td>0.216225</td>\n",
              "    </tr>\n",
              "    <tr>\n",
              "      <th>Fare</th>\n",
              "      <td>0.012658</td>\n",
              "      <td>0.257307</td>\n",
              "      <td>-0.549500</td>\n",
              "      <td>0.096067</td>\n",
              "      <td>0.159651</td>\n",
              "      <td>0.216225</td>\n",
              "      <td>1.000000</td>\n",
              "    </tr>\n",
              "  </tbody>\n",
              "</table>\n",
              "</div>"
            ],
            "text/plain": [
              "             PassengerId  Survived    Pclass  ...     SibSp     Parch      Fare\n",
              "PassengerId     1.000000 -0.005007 -0.035144  ... -0.057527 -0.001652  0.012658\n",
              "Survived       -0.005007  1.000000 -0.338481  ... -0.035322  0.081629  0.257307\n",
              "Pclass         -0.035144 -0.338481  1.000000  ...  0.083081  0.018443 -0.549500\n",
              "Age             0.036847 -0.077221 -0.369226  ... -0.308247 -0.189119  0.096067\n",
              "SibSp          -0.057527 -0.035322  0.083081  ...  1.000000  0.414838  0.159651\n",
              "Parch          -0.001652  0.081629  0.018443  ...  0.414838  1.000000  0.216225\n",
              "Fare            0.012658  0.257307 -0.549500  ...  0.159651  0.216225  1.000000\n",
              "\n",
              "[7 rows x 7 columns]"
            ]
          },
          "metadata": {
            "tags": []
          },
          "execution_count": 84
        }
      ]
    },
    {
      "cell_type": "code",
      "metadata": {
        "id": "hDMnUeWOyI6b",
        "colab_type": "code",
        "colab": {
          "base_uri": "https://localhost:8080/",
          "height": 388
        },
        "outputId": "18095871-5bf5-4a06-a831-2f21b58f9034"
      },
      "source": [
        "plt.figure(figsize=(20,5))\n",
        "plt.subplot(131) ;sns.countplot('Survived',data=train_df)\n",
        "plt.subplot(132) ;sns.countplot('Survived',data=train_df,hue='Sex')\n",
        "plt.subplot(133) ;sns.countplot('Survived',data=train_df,hue='Pclass')\n",
        "\n",
        "print(train_df['Survived'].value_counts())"
      ],
      "execution_count": 85,
      "outputs": [
        {
          "output_type": "stream",
          "text": [
            "0    549\n",
            "1    342\n",
            "Name: Survived, dtype: int64\n"
          ],
          "name": "stdout"
        },
        {
          "output_type": "display_data",
          "data": {
            "image/png": "[encoded data removed]",
            "text/plain": [
              "<Figure size 1440x360 with 3 Axes>"
            ]
          },
          "metadata": {
            "tags": [],
            "needs_background": "light"
          }
        }
      ]
    },
    {
      "cell_type": "code",
      "metadata": {
        "id": "rXmo75agzq2G",
        "colab_type": "code",
        "colab": {
          "base_uri": "https://localhost:8080/",
          "height": 338
        },
        "outputId": "fff5916c-11bd-4289-fa9e-f70d35d51355"
      },
      "source": [
        "sns.heatmap(train_df.isnull(),cmap='viridis',cbar=False)"
      ],
      "execution_count": 108,
      "outputs": [
        {
          "output_type": "execute_result",
          "data": {
            "text/plain": [
              "<matplotlib.axes._subplots.AxesSubplot at 0x7ff630dbea20>"
            ]
          },
          "metadata": {
            "tags": []
          },
          "execution_count": 108
        },
        {
          "output_type": "display_data",
          "data": {
            "image/png": "[encoded data removed]",
            "text/plain": [
              "<Figure size 432x288 with 1 Axes>"
            ]
          },
          "metadata": {
            "tags": [],
            "needs_background": "light"
          }
        }
      ]
    },
    {
      "cell_type": "code",
      "metadata": {
        "id": "qW_IPi6t0gnL",
        "colab_type": "code",
        "colab": {
          "base_uri": "https://localhost:8080/",
          "height": 297
        },
        "outputId": "020ec37d-740e-40d5-bb98-d8bd8316775d"
      },
      "source": [
        "sns.boxplot('Pclass','Age',data=train_df)"
      ],
      "execution_count": 87,
      "outputs": [
        {
          "output_type": "execute_result",
          "data": {
            "text/plain": [
              "<matplotlib.axes._subplots.AxesSubplot at 0x7ff630f299e8>"
            ]
          },
          "metadata": {
            "tags": []
          },
          "execution_count": 87
        },
        {
          "output_type": "display_data",
          "data": {
            "image/png": "[encoded data removed]",
            "text/plain": [
              "<Figure size 432x288 with 1 Axes>"
            ]
          },
          "metadata": {
            "tags": [],
            "needs_background": "light"
          }
        }
      ]
    },
    {
      "cell_type": "code",
      "metadata": {
        "id": "9xMcA2WH0QHw",
        "colab_type": "code",
        "colab": {}
      },
      "source": [
        "def impute_age(cols):\n",
        "  Age=cols[0]\n",
        "  Pclass=cols[1]\n",
        "\n",
        "  if pd.isnull(Age):\n",
        "\n",
        "    if Pclass==1:\n",
        "      return 38\n",
        "    elif Pclass==2:\n",
        "      return 29\n",
        "    else:\n",
        "      return 25\n",
        "  else:\n",
        "    return Age"
      ],
      "execution_count": 102,
      "outputs": []
    },
    {
      "cell_type": "code",
      "metadata": {
        "id": "vYMy6Ci-1CVS",
        "colab_type": "code",
        "colab": {}
      },
      "source": [
        "train_df['Age']=train_df[['Age','Pclass']].apply(lambda x : impute_age(x),axis=1)"
      ],
      "execution_count": 111,
      "outputs": []
    },
    {
      "cell_type": "code",
      "metadata": {
        "id": "tR6qZenw1ved",
        "colab_type": "code",
        "colab": {
          "base_uri": "https://localhost:8080/",
          "height": 338
        },
        "outputId": "01a57cb7-6550-4b50-b472-2daa2c2a79c3"
      },
      "source": [
        "sns.heatmap(train_df.isnull(),cmap='viridis',cbar=False)"
      ],
      "execution_count": 112,
      "outputs": [
        {
          "output_type": "execute_result",
          "data": {
            "text/plain": [
              "<matplotlib.axes._subplots.AxesSubplot at 0x7ff630cbe5f8>"
            ]
          },
          "metadata": {
            "tags": []
          },
          "execution_count": 112
        },
        {
          "output_type": "display_data",
          "data": {
            "image/png": "[encoded data removed]",
            "text/plain": [
              "<Figure size 432x288 with 1 Axes>"
            ]
          },
          "metadata": {
            "tags": [],
            "needs_background": "light"
          }
        }
      ]
    },
    {
      "cell_type": "code",
      "metadata": {
        "id": "YdLK0gCn2KBa",
        "colab_type": "code",
        "colab": {}
      },
      "source": [
        "from sklearn.base import BaseEstimator,TransformerMixin\n",
        "from sklearn.metrics import confusion_matrix,classification_report\n",
        "from sklearn.pipeline import Pipeline\n",
        "from sklearn.impute import SimpleImputer\n",
        "from sklearn.compose import ColumnTransformer\n",
        "from sklearn.preprocessing import OneHotEncoder\n",
        "from sklearn.ensemble import RandomForestClassifier\n",
        "from sklearn.model_selection import cross_val_predict,cross_val_score,GridSearchCV,RandomizedSearchCV,train_test_split"
      ],
      "execution_count": 174,
      "outputs": []
    },
    {
      "cell_type": "code",
      "metadata": {
        "id": "ZQMHn39N5wZi",
        "colab_type": "code",
        "colab": {}
      },
      "source": [
        "num_features=list((\"Age\", \"SibSp\", \"Parch\", \"Fare\"))\n",
        "cat_features=list((\"Pclass\", \"Sex\", \"Embarked\"))"
      ],
      "execution_count": 148,
      "outputs": []
    },
    {
      "cell_type": "code",
      "metadata": {
        "id": "h5UR85IQ6QrI",
        "colab_type": "code",
        "colab": {}
      },
      "source": [
        "class MostFrequentImputer(BaseEstimator,TransformerMixin):\n",
        "\n",
        "  def fit(self,X,y=None):\n",
        "    self.most_frequent_=pd.Series([X[c].value_counts().index[0] for c in X],\n",
        "                                  index=X.columns)\n",
        "    return self\n",
        "  \n",
        "  def transform(self,X,y=None):\n",
        "    return X.fillna(self.most_frequent_)"
      ],
      "execution_count": 149,
      "outputs": []
    },
    {
      "cell_type": "code",
      "metadata": {
        "id": "-iSgqFvs7rDG",
        "colab_type": "code",
        "colab": {}
      },
      "source": [
        "num_pipeline=Pipeline([\n",
        "                       ('imputer',SimpleImputer(strategy='median')),\n",
        "])"
      ],
      "execution_count": 150,
      "outputs": []
    },
    {
      "cell_type": "code",
      "metadata": {
        "id": "b9b7LMzY8GsR",
        "colab_type": "code",
        "colab": {}
      },
      "source": [
        "cat_pipeline = Pipeline([\n",
        "        (\"imputer\", MostFrequentImputer()),\n",
        "        (\"cat_encoder\", OneHotEncoder(drop='first',sparse=False)),\n",
        "    ])"
      ],
      "execution_count": 151,
      "outputs": []
    },
    {
      "cell_type": "code",
      "metadata": {
        "id": "H3PJSnt_9-Fu",
        "colab_type": "code",
        "colab": {}
      },
      "source": [
        "full_pipeline=ColumnTransformer([\n",
        "                                 ('num_pipe',num_pipeline,num_features),\n",
        "                                 ('cat_pipe',cat_pipeline,cat_features)\n",
        "])"
      ],
      "execution_count": 152,
      "outputs": []
    },
    {
      "cell_type": "code",
      "metadata": {
        "id": "wFWSL6PM-bRX",
        "colab_type": "code",
        "colab": {
          "base_uri": "https://localhost:8080/",
          "height": 141
        },
        "outputId": "af213327-c2df-4c64-d57d-c4c4e4165f5c"
      },
      "source": [
        "X=full_pipeline.fit_transform(train_df)\n",
        "X"
      ],
      "execution_count": 162,
      "outputs": [
        {
          "output_type": "execute_result",
          "data": {
            "text/plain": [
              "array([[22.,  1.,  0., ...,  1.,  0.,  1.],\n",
              "       [38.,  1.,  0., ...,  0.,  0.,  0.],\n",
              "       [26.,  0.,  0., ...,  0.,  0.,  1.],\n",
              "       ...,\n",
              "       [25.,  1.,  2., ...,  0.,  0.,  1.],\n",
              "       [26.,  0.,  0., ...,  1.,  0.,  0.],\n",
              "       [32.,  0.,  0., ...,  1.,  1.,  0.]])"
            ]
          },
          "metadata": {
            "tags": []
          },
          "execution_count": 162
        }
      ]
    },
    {
      "cell_type": "code",
      "metadata": {
        "id": "3fystWzs-wgO",
        "colab_type": "code",
        "colab": {}
      },
      "source": [
        "y=train_df['Survived']"
      ],
      "execution_count": 163,
      "outputs": []
    },
    {
      "cell_type": "code",
      "metadata": {
        "id": "BBvqI37_G124",
        "colab_type": "code",
        "colab": {}
      },
      "source": [
        "X_train, X_test, y_train, y_test = train_test_split(X, y, test_size=0.2, random_state=42)"
      ],
      "execution_count": 164,
      "outputs": []
    },
    {
      "cell_type": "code",
      "metadata": {
        "id": "Nvsf7ZIdEblb",
        "colab_type": "code",
        "colab": {}
      },
      "source": [
        "rand_clf=RandomForestClassifier()"
      ],
      "execution_count": 165,
      "outputs": []
    },
    {
      "cell_type": "code",
      "metadata": {
        "id": "F35M7K2wFdvr",
        "colab_type": "code",
        "colab": {
          "base_uri": "https://localhost:8080/",
          "height": 1000
        },
        "outputId": "1d3121df-d99b-4218-8970-37ff16040ca3"
      },
      "source": [
        "param_distr=[{'n_estimators':[50,100,150,200,250],'max_features':[1,2,3,4,5,6,7,8]}]\n",
        "\n",
        "rnd_search=RandomizedSearchCV(rand_clf,param_distributions=param_distr,cv=5,n_iter=10,scoring='accuracy',verbose=2)\n",
        "\n",
        "rnd_search.fit(X_train,y_train)"
      ],
      "execution_count": 185,
      "outputs": [
        {
          "output_type": "stream",
          "text": [
            "Fitting 5 folds for each of 10 candidates, totalling 50 fits\n",
            "[CV] n_estimators=50, max_features=4 .................................\n",
            "[CV] .................. n_estimators=50, max_features=4, total=   0.1s\n",
            "[CV] n_estimators=50, max_features=4 .................................\n"
          ],
          "name": "stdout"
        },
        {
          "output_type": "stream",
          "text": [
            "[Parallel(n_jobs=1)]: Using backend SequentialBackend with 1 concurrent workers.\n",
            "[Parallel(n_jobs=1)]: Done   1 out of   1 | elapsed:    0.1s remaining:    0.0s\n"
          ],
          "name": "stderr"
        },
        {
          "output_type": "stream",
          "text": [
            "[CV] .................. n_estimators=50, max_features=4, total=   0.1s\n",
            "[CV] n_estimators=50, max_features=4 .................................\n",
            "[CV] .................. n_estimators=50, max_features=4, total=   0.1s\n",
            "[CV] n_estimators=50, max_features=4 .................................\n",
            "[CV] .................. n_estimators=50, max_features=4, total=   0.1s\n",
            "[CV] n_estimators=50, max_features=4 .................................\n",
            "[CV] .................. n_estimators=50, max_features=4, total=   0.1s\n",
            "[CV] n_estimators=200, max_features=6 ................................\n",
            "[CV] ................. n_estimators=200, max_features=6, total=   0.4s\n",
            "[CV] n_estimators=200, max_features=6 ................................\n",
            "[CV] ................. n_estimators=200, max_features=6, total=   0.4s\n",
            "[CV] n_estimators=200, max_features=6 ................................\n",
            "[CV] ................. n_estimators=200, max_features=6, total=   0.4s\n",
            "[CV] n_estimators=200, max_features=6 ................................\n",
            "[CV] ................. n_estimators=200, max_features=6, total=   0.4s\n",
            "[CV] n_estimators=200, max_features=6 ................................\n",
            "[CV] ................. n_estimators=200, max_features=6, total=   0.4s\n",
            "[CV] n_estimators=250, max_features=6 ................................\n",
            "[CV] ................. n_estimators=250, max_features=6, total=   0.5s\n",
            "[CV] n_estimators=250, max_features=6 ................................\n",
            "[CV] ................. n_estimators=250, max_features=6, total=   0.5s\n",
            "[CV] n_estimators=250, max_features=6 ................................\n",
            "[CV] ................. n_estimators=250, max_features=6, total=   0.5s\n",
            "[CV] n_estimators=250, max_features=6 ................................\n",
            "[CV] ................. n_estimators=250, max_features=6, total=   0.5s\n",
            "[CV] n_estimators=250, max_features=6 ................................\n",
            "[CV] ................. n_estimators=250, max_features=6, total=   0.5s\n",
            "[CV] n_estimators=250, max_features=3 ................................\n",
            "[CV] ................. n_estimators=250, max_features=3, total=   0.4s\n",
            "[CV] n_estimators=250, max_features=3 ................................\n",
            "[CV] ................. n_estimators=250, max_features=3, total=   0.4s\n",
            "[CV] n_estimators=250, max_features=3 ................................\n",
            "[CV] ................. n_estimators=250, max_features=3, total=   0.4s\n",
            "[CV] n_estimators=250, max_features=3 ................................\n",
            "[CV] ................. n_estimators=250, max_features=3, total=   0.4s\n",
            "[CV] n_estimators=250, max_features=3 ................................\n",
            "[CV] ................. n_estimators=250, max_features=3, total=   0.4s\n",
            "[CV] n_estimators=50, max_features=8 .................................\n",
            "[CV] .................. n_estimators=50, max_features=8, total=   0.1s\n",
            "[CV] n_estimators=50, max_features=8 .................................\n",
            "[CV] .................. n_estimators=50, max_features=8, total=   0.1s\n",
            "[CV] n_estimators=50, max_features=8 .................................\n",
            "[CV] .................. n_estimators=50, max_features=8, total=   0.1s\n",
            "[CV] n_estimators=50, max_features=8 .................................\n",
            "[CV] .................. n_estimators=50, max_features=8, total=   0.1s\n",
            "[CV] n_estimators=50, max_features=8 .................................\n",
            "[CV] .................. n_estimators=50, max_features=8, total=   0.1s\n",
            "[CV] n_estimators=150, max_features=6 ................................\n",
            "[CV] ................. n_estimators=150, max_features=6, total=   0.3s\n",
            "[CV] n_estimators=150, max_features=6 ................................\n",
            "[CV] ................. n_estimators=150, max_features=6, total=   0.3s\n",
            "[CV] n_estimators=150, max_features=6 ................................\n",
            "[CV] ................. n_estimators=150, max_features=6, total=   0.3s\n",
            "[CV] n_estimators=150, max_features=6 ................................\n",
            "[CV] ................. n_estimators=150, max_features=6, total=   0.3s\n",
            "[CV] n_estimators=150, max_features=6 ................................\n",
            "[CV] ................. n_estimators=150, max_features=6, total=   0.3s\n",
            "[CV] n_estimators=200, max_features=5 ................................\n",
            "[CV] ................. n_estimators=200, max_features=5, total=   0.4s\n",
            "[CV] n_estimators=200, max_features=5 ................................\n",
            "[CV] ................. n_estimators=200, max_features=5, total=   0.4s\n",
            "[CV] n_estimators=200, max_features=5 ................................\n",
            "[CV] ................. n_estimators=200, max_features=5, total=   0.4s\n",
            "[CV] n_estimators=200, max_features=5 ................................\n",
            "[CV] ................. n_estimators=200, max_features=5, total=   0.4s\n",
            "[CV] n_estimators=200, max_features=5 ................................\n",
            "[CV] ................. n_estimators=200, max_features=5, total=   0.4s\n",
            "[CV] n_estimators=250, max_features=1 ................................\n",
            "[CV] ................. n_estimators=250, max_features=1, total=   0.4s\n",
            "[CV] n_estimators=250, max_features=1 ................................\n",
            "[CV] ................. n_estimators=250, max_features=1, total=   0.4s\n",
            "[CV] n_estimators=250, max_features=1 ................................\n",
            "[CV] ................. n_estimators=250, max_features=1, total=   0.4s\n",
            "[CV] n_estimators=250, max_features=1 ................................\n",
            "[CV] ................. n_estimators=250, max_features=1, total=   0.4s\n",
            "[CV] n_estimators=250, max_features=1 ................................\n",
            "[CV] ................. n_estimators=250, max_features=1, total=   0.4s\n",
            "[CV] n_estimators=250, max_features=2 ................................\n",
            "[CV] ................. n_estimators=250, max_features=2, total=   0.4s\n",
            "[CV] n_estimators=250, max_features=2 ................................\n",
            "[CV] ................. n_estimators=250, max_features=2, total=   0.4s\n",
            "[CV] n_estimators=250, max_features=2 ................................\n",
            "[CV] ................. n_estimators=250, max_features=2, total=   0.4s\n",
            "[CV] n_estimators=250, max_features=2 ................................\n",
            "[CV] ................. n_estimators=250, max_features=2, total=   0.4s\n",
            "[CV] n_estimators=250, max_features=2 ................................\n",
            "[CV] ................. n_estimators=250, max_features=2, total=   0.4s\n",
            "[CV] n_estimators=100, max_features=8 ................................\n",
            "[CV] ................. n_estimators=100, max_features=8, total=   0.2s\n",
            "[CV] n_estimators=100, max_features=8 ................................\n",
            "[CV] ................. n_estimators=100, max_features=8, total=   0.2s\n",
            "[CV] n_estimators=100, max_features=8 ................................\n",
            "[CV] ................. n_estimators=100, max_features=8, total=   0.2s\n",
            "[CV] n_estimators=100, max_features=8 ................................\n",
            "[CV] ................. n_estimators=100, max_features=8, total=   0.2s\n",
            "[CV] n_estimators=100, max_features=8 ................................\n",
            "[CV] ................. n_estimators=100, max_features=8, total=   0.2s\n"
          ],
          "name": "stdout"
        },
        {
          "output_type": "stream",
          "text": [
            "[Parallel(n_jobs=1)]: Done  50 out of  50 | elapsed:   15.9s finished\n"
          ],
          "name": "stderr"
        },
        {
          "output_type": "execute_result",
          "data": {
            "text/plain": [
              "RandomizedSearchCV(cv=5, error_score=nan,\n",
              "                   estimator=RandomForestClassifier(bootstrap=True,\n",
              "                                                    ccp_alpha=0.0,\n",
              "                                                    class_weight=None,\n",
              "                                                    criterion='gini',\n",
              "                                                    max_depth=None,\n",
              "                                                    max_features='auto',\n",
              "                                                    max_leaf_nodes=None,\n",
              "                                                    max_samples=None,\n",
              "                                                    min_impurity_decrease=0.0,\n",
              "                                                    min_impurity_split=None,\n",
              "                                                    min_samples_leaf=1,\n",
              "                                                    min_samples_split=2,\n",
              "                                                    min_weight_fraction_leaf=0.0,\n",
              "                                                    n_estimators=100,\n",
              "                                                    n_jobs=None,\n",
              "                                                    oob_score=False,\n",
              "                                                    random_state=None,\n",
              "                                                    verbose=0,\n",
              "                                                    warm_start=False),\n",
              "                   iid='deprecated', n_iter=10, n_jobs=None,\n",
              "                   param_distributions=[{'max_features': [1, 2, 3, 4, 5, 6, 7,\n",
              "                                                          8],\n",
              "                                         'n_estimators': [50, 100, 150, 200,\n",
              "                                                          250]}],\n",
              "                   pre_dispatch='2*n_jobs', random_state=None, refit=True,\n",
              "                   return_train_score=False, scoring='accuracy', verbose=2)"
            ]
          },
          "metadata": {
            "tags": []
          },
          "execution_count": 185
        }
      ]
    },
    {
      "cell_type": "code",
      "metadata": {
        "id": "_eXArwUvHOWX",
        "colab_type": "code",
        "colab": {
          "base_uri": "https://localhost:8080/",
          "height": 35
        },
        "outputId": "55adbf6e-a91e-4615-b819-e4447e1471f5"
      },
      "source": [
        "rnd_search.best_params_"
      ],
      "execution_count": 186,
      "outputs": [
        {
          "output_type": "execute_result",
          "data": {
            "text/plain": [
              "{'max_features': 6, 'n_estimators': 200}"
            ]
          },
          "metadata": {
            "tags": []
          },
          "execution_count": 186
        }
      ]
    },
    {
      "cell_type": "code",
      "metadata": {
        "id": "ncdjd1kvHcjR",
        "colab_type": "code",
        "colab": {
          "base_uri": "https://localhost:8080/",
          "height": 195
        },
        "outputId": "dd2b2c18-4348-453d-fb4f-539342270558"
      },
      "source": [
        "cvres = rnd_search.cv_results_\n",
        "for scores,params in zip(cvres[\"mean_test_score\"], cvres[\"params\"]):\n",
        "    print( scores,params)"
      ],
      "execution_count": 206,
      "outputs": [
        {
          "output_type": "stream",
          "text": [
            "0.8061853639318428 {'n_estimators': 50, 'max_features': 4}\n",
            "0.8118191667487442 {'n_estimators': 200, 'max_features': 6}\n",
            "0.8062050625430908 {'n_estimators': 250, 'max_features': 6}\n",
            "0.7991726583275879 {'n_estimators': 250, 'max_features': 3}\n",
            "0.7865458485176795 {'n_estimators': 50, 'max_features': 8}\n",
            "0.8104304146557668 {'n_estimators': 150, 'max_features': 6}\n",
            "0.8090121146459175 {'n_estimators': 200, 'max_features': 5}\n",
            "0.7963853048360091 {'n_estimators': 250, 'max_features': 1}\n",
            "0.796375455530385 {'n_estimators': 250, 'max_features': 2}\n",
            "0.8047867625332413 {'n_estimators': 100, 'max_features': 8}\n"
          ],
          "name": "stdout"
        }
      ]
    },
    {
      "cell_type": "code",
      "metadata": {
        "id": "hjQAHnmbH3ME",
        "colab_type": "code",
        "colab": {}
      },
      "source": [
        "y_pred=cross_val_predict(RandomForestClassifier(**rnd_search.best_params_),X_test,y_test,cv=3)"
      ],
      "execution_count": 188,
      "outputs": []
    },
    {
      "cell_type": "code",
      "metadata": {
        "id": "ZVIx-OT4JHWH",
        "colab_type": "code",
        "colab": {
          "base_uri": "https://localhost:8080/",
          "height": 52
        },
        "outputId": "676c56ae-77c1-4bb0-b698-8d81579403b1"
      },
      "source": [
        "print(confusion_matrix(y_test,y_pred))"
      ],
      "execution_count": 189,
      "outputs": [
        {
          "output_type": "stream",
          "text": [
            "[[85 20]\n",
            " [10 64]]\n"
          ],
          "name": "stdout"
        }
      ]
    },
    {
      "cell_type": "code",
      "metadata": {
        "id": "rpCfyiUUJaNa",
        "colab_type": "code",
        "colab": {
          "base_uri": "https://localhost:8080/",
          "height": 177
        },
        "outputId": "cb6fe25f-6d45-424a-dcb3-006a61e7993d"
      },
      "source": [
        "print(classification_report(y_test,y_pred))"
      ],
      "execution_count": 190,
      "outputs": [
        {
          "output_type": "stream",
          "text": [
            "              precision    recall  f1-score   support\n",
            "\n",
            "           0       0.89      0.81      0.85       105\n",
            "           1       0.76      0.86      0.81        74\n",
            "\n",
            "    accuracy                           0.83       179\n",
            "   macro avg       0.83      0.84      0.83       179\n",
            "weighted avg       0.84      0.83      0.83       179\n",
            "\n"
          ],
          "name": "stdout"
        }
      ]
    },
    {
      "cell_type": "code",
      "metadata": {
        "id": "aCTNlq2IJgTx",
        "colab_type": "code",
        "colab": {}
      },
      "source": [
        "test_df=pd.read_csv('titanic_test.csv')"
      ],
      "execution_count": 191,
      "outputs": []
    },
    {
      "cell_type": "code",
      "metadata": {
        "id": "K8iDoMenLIcP",
        "colab_type": "code",
        "colab": {
          "base_uri": "https://localhost:8080/",
          "height": 212
        },
        "outputId": "72897d00-322e-4e9d-8f75-f452168cba69"
      },
      "source": [
        "for column in test_df:\n",
        "  print('Empty Values in {c} are {n}'.format(c=column,n=sum(train_df[column].value_counts())-891))"
      ],
      "execution_count": 192,
      "outputs": [
        {
          "output_type": "stream",
          "text": [
            "Empty Values in PassengerId are 0\n",
            "Empty Values in Pclass are 0\n",
            "Empty Values in Name are 0\n",
            "Empty Values in Sex are 0\n",
            "Empty Values in Age are 0\n",
            "Empty Values in SibSp are 0\n",
            "Empty Values in Parch are 0\n",
            "Empty Values in Ticket are 0\n",
            "Empty Values in Fare are 0\n",
            "Empty Values in Cabin are -687\n",
            "Empty Values in Embarked are -2\n"
          ],
          "name": "stdout"
        }
      ]
    },
    {
      "cell_type": "code",
      "metadata": {
        "id": "7HUCwmT_LdXz",
        "colab_type": "code",
        "colab": {}
      },
      "source": [
        "X_test=full_pipeline.fit_transform(test_df)"
      ],
      "execution_count": 193,
      "outputs": []
    },
    {
      "cell_type": "code",
      "metadata": {
        "id": "2BLvG4r_Lz9z",
        "colab_type": "code",
        "colab": {}
      },
      "source": [
        "y_test_pred=rnd_search.predict(X_test)"
      ],
      "execution_count": 195,
      "outputs": []
    },
    {
      "cell_type": "code",
      "metadata": {
        "id": "GNkopuHDMlzr",
        "colab_type": "code",
        "colab": {}
      },
      "source": [
        "submission=pd.DataFrame(y_test_pred,columns=['Survived'])"
      ],
      "execution_count": 201,
      "outputs": []
    },
    {
      "cell_type": "code",
      "metadata": {
        "id": "kLQTDi_SMzYf",
        "colab_type": "code",
        "colab": {}
      },
      "source": [
        "submission=pd.concat([test_df['PassengerId'],submission],axis=1)"
      ],
      "execution_count": 202,
      "outputs": []
    },
    {
      "cell_type": "code",
      "metadata": {
        "id": "k_S1VGk4NgAx",
        "colab_type": "code",
        "colab": {}
      },
      "source": [
        "submission.to_csv('Titanic',index=False)"
      ],
      "execution_count": 204,
      "outputs": []
    },
    {
      "cell_type": "code",
      "metadata": {
        "id": "iG0cg-EMN5-R",
        "colab_type": "code",
        "colab": {}
      },
      "source": [
        ""
      ],
      "execution_count": null,
      "outputs": []
    }
  ]
}